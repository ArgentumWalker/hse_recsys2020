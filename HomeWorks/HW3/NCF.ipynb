{
 "cells": [
  {
   "cell_type": "code",
   "execution_count": 1,
   "metadata": {},
   "outputs": [],
   "source": [
    "import torch\n",
    "from torch import nn\n",
    "from torch.nn import functional as F\n",
    "from torch.utils.data import Dataset, DataLoader\n",
    "from torch.optim import Adam\n",
    "\n",
    "import pandas as pd\n",
    "\n",
    "\n",
    "import numpy as np\n",
    "import random\n",
    "from tqdm.notebook import tqdm\n",
    "import matplotlib.pyplot as plt"
   ]
  },
  {
   "cell_type": "code",
   "execution_count": null,
   "metadata": {},
   "outputs": [],
   "source": []
  },
  {
   "cell_type": "code",
   "execution_count": null,
   "metadata": {},
   "outputs": [],
   "source": []
  },
  {
   "cell_type": "markdown",
   "metadata": {},
   "source": [
    "## Datasets"
   ]
  },
  {
   "cell_type": "markdown",
   "metadata": {},
   "source": [
    "MovieLens dataset: https://www.kaggle.com/shubhammehta21/movie-lens-small-latest-dataset\n",
    "\n",
    "Наверное, самый часто используемый датасет.\n",
    "\n",
    "\n",
    "Steam games dataset: https://www.kaggle.com/tamber/steam-video-games\n",
    "\n",
    "Просто потому что интересно. А еще он относительно маленький, и на нем можно легко отлаживать код."
   ]
  },
  {
   "cell_type": "code",
   "execution_count": 2,
   "metadata": {},
   "outputs": [],
   "source": [
    "class RecsysDataset(Dataset):\n",
    "    def __getitem__(self, index):\n",
    "        pu = self.positive_users[index]\n",
    "        pi = self.positive_items[index]\n",
    "        nu = random.choice(list(self.item2negatives[pi]))#random.randint(0, len(self.uid_2_user)-1)\n",
    "        ni = random.choice(list(self.user2negatives[pu]))#random.randint(0, len(self.iid_2_item)-1)\n",
    "        return pu, pi, nu, ni\n",
    "    \n",
    "    def __len__(self):\n",
    "        return len(self.positive_users)\n",
    "    \n",
    "    def get_user_relevant(self, user_id):\n",
    "        return self.user2relevant[user_id]"
   ]
  },
  {
   "cell_type": "code",
   "execution_count": 3,
   "metadata": {},
   "outputs": [],
   "source": [
    "class MovielensDataset(RecsysDataset):\n",
    "    def __init__(self, path, rating_threshold=4.0):\n",
    "        df = pd.read_csv(f\"{path}/ratings.csv\")\n",
    "        df = df[df[\"rating\"] >= rating_threshold]\n",
    "\n",
    "        unique_users = df[\"userId\"].unique()\n",
    "        self.uid_2_user = dict([(i, user) for i, user in enumerate(unique_users)])\n",
    "        self.user_2_uid = dict([(user, i) for i, user in enumerate(unique_users)])\n",
    "        unique_items = df[\"movieId\"].unique()\n",
    "        self.iid_2_item = dict([(i, item) for i, item in enumerate(unique_items)])\n",
    "        self.item_2_iid = dict([(item, i) for i, item in enumerate(unique_items)])\n",
    "        movie_ds = pd.read_csv(f\"{path}/movies.csv\")\n",
    "        id2name = list(zip(movie_ds[\"movieId\"], movie_ds[\"title\"]))\n",
    "        self.iid_2_name = dict([(self.item_2_iid[i], name) for i, name in id2name if i in self.item_2_iid])\n",
    "        self.positive_users = df[\"userId\"].map(lambda x: self.user_2_uid[x]).to_list()\n",
    "        self.positive_items = df[\"movieId\"].map(lambda x: self.item_2_iid[x]).to_list()\n",
    "        \n",
    "        self.user2negatives = [set(range(len(unique_items))) for _ in unique_users]\n",
    "        self.item2negatives = [set(range(len(unique_users))) for _ in unique_items]\n",
    "        self.user2relevant = [[] for _ in unique_users]\n",
    "        for u, i in zip(self.positive_users, self.positive_items):\n",
    "            self.user2relevant[u].append(i)\n",
    "            self.user2negatives[u].discard(i)\n",
    "            self.item2negatives[i].discard(u)\n",
    "            \n",
    "    def item_by_id(self, i):\n",
    "        return self.iid_2_name[i] if i in self.iid_2_name else self.iid_2_item[i]"
   ]
  },
  {
   "cell_type": "code",
   "execution_count": null,
   "metadata": {},
   "outputs": [],
   "source": []
  },
  {
   "cell_type": "code",
   "execution_count": 4,
   "metadata": {},
   "outputs": [],
   "source": [
    "class SteamDataset(RecsysDataset):\n",
    "    def __init__(self, path, is_purchase=False, play_threshold=1.0):\n",
    "        df = pd.read_csv(path, header=None)\n",
    "        if is_purchase:\n",
    "            df = df[df[2] == \"purchase\"]\n",
    "        else:\n",
    "            df = df[(df[2] == \"play\") & (df[3] >= play_threshold)]\n",
    "\n",
    "        unique_users = df[0].unique()\n",
    "        self.uid_2_user = dict([(i, user) for i, user in enumerate(unique_users)])\n",
    "        self.user_2_uid = dict([(user, i) for i, user in enumerate(unique_users)])\n",
    "        unique_items = df[1].unique()\n",
    "        self.iid_2_item = dict([(i, item) for i, item in enumerate(unique_items)])\n",
    "        self.item_2_iid = dict([(item, i) for i, item in enumerate(unique_items)])\n",
    "        self.positive_users = df[0].map(lambda x: self.user_2_uid[x]).to_list()\n",
    "        self.positive_items = df[1].map(lambda x: self.item_2_iid[x]).to_list()\n",
    "        \n",
    "        self.user2negatives = [set(range(len(unique_items))) for _ in unique_users]\n",
    "        self.item2negatives = [set(range(len(unique_users))) for _ in unique_items]\n",
    "        self.user2relevant = [[] for _ in unique_users]\n",
    "        for u, i in zip(self.positive_users, self.positive_items):\n",
    "            self.user2relevant[u].append(i)\n",
    "            self.user2negatives[u].discard(i)\n",
    "            self.item2negatives[i].discard(u)\n",
    "            \n",
    "    def item_by_id(self, i):\n",
    "        return self.iid_2_item[i]"
   ]
  },
  {
   "cell_type": "markdown",
   "metadata": {},
   "source": [
    "## Код для анализа результатов"
   ]
  },
  {
   "cell_type": "code",
   "execution_count": 5,
   "metadata": {},
   "outputs": [],
   "source": [
    "def build_ranking(model, users, items, k):\n",
    "    items = torch.tensor(items, dtype=torch.long).cuda()\n",
    "    users = torch.tensor(users, dtype=torch.long).cuda()\n",
    "    rankings = []\n",
    "    with torch.no_grad():\n",
    "        for u in tqdm(range(len(users))):\n",
    "            user = users[u:u+1].expand_as(items)\n",
    "            values = model(user, items).view(-1)\n",
    "            ranking = items[torch.argsort(values, descending=True)[:k]]\n",
    "            rankings.append(ranking)\n",
    "    return torch.stack(rankings)\n",
    "\n",
    "def compute_metrics(model, dataset, max_users_ctn=1024, max_items_ctn=2**15, k=10):\n",
    "    # Build rankings according to model and datset\n",
    "    if max_users_ctn >= len(dataset.uid_2_user):\n",
    "        users = list(range(len(dataset.uid_2_user)))\n",
    "    else:\n",
    "        users = np.random.choice(len(dataset.uid_2_user), max_users_ctn)\n",
    "    if max_items_ctn >= len(dataset.iid_2_item):\n",
    "        items = list(range(len(dataset.iid_2_item)))\n",
    "    else:\n",
    "        items = np.random.choice(len(dataset.iid_2_item), max_items_ctn)\n",
    "    ranking = build_ranking(model, users, items, k).cpu().numpy()\n",
    "    \n",
    "    # Compute metrics\n",
    "    map_at_k = 0.\n",
    "    ndcg_at_k = 0.\n",
    "    for i, u in enumerate(users):\n",
    "        rank = ranking[i]\n",
    "        relevant = set(dataset.get_user_relevant(u))\n",
    "        ap_at_k = 0.\n",
    "        ctn = 0\n",
    "        dcg_at_k = 0\n",
    "        idcg_at_k = 0\n",
    "        for j in range(k):\n",
    "            if rank[j] in relevant:\n",
    "                ctn += 1\n",
    "                ap_at_k += ctn / (j + 1)\n",
    "                dcg_at_k += 1 / np.log(j+2)\n",
    "            if len(relevant) > j:\n",
    "                idcg_at_k += 1 / np.log(j+2)\n",
    "        ap_at_k /= min(k, max(len(relevant), 1))\n",
    "        ndcg_at_k += dcg_at_k / len(users) / idcg_at_k\n",
    "        map_at_k += ap_at_k / len(users)\n",
    "    return {f\"mAP@{k}\": map_at_k, f\"NDCG@{k}\": ndcg_at_k}"
   ]
  },
  {
   "cell_type": "code",
   "execution_count": null,
   "metadata": {},
   "outputs": [],
   "source": []
  },
  {
   "cell_type": "code",
   "execution_count": 13,
   "metadata": {},
   "outputs": [],
   "source": [
    "def find_similars(model, item, dataset, k=20):\n",
    "    with torch.no_grad():\n",
    "        embs = model.item_embedding.weight\n",
    "        item_emb = embs[item].unsqueeze(0).expand_as(embs)\n",
    "        norm = (embs**2).sum(-1)**0.5\n",
    "        dist_cos = ((embs * item_emb).sum(-1)) / norm\n",
    "        dist_l2 = ((embs - item_emb)**2).sum(-1)**0.5 # L2 distance\n",
    "        closest_cos = torch.argsort(dist_cos, descending=False)[1:k+1].cpu().numpy()\n",
    "        closest_l2 = torch.argsort(dist_l2, descending=False)[1:k+1].cpu().numpy()\n",
    "        return dataset.item_by_id(item), [dataset.item_by_id(i) for i in closest_cos], [dataset.item_by_id(i) for i in closest_l2]\n",
    "    \n",
    "def make_recommendations(model, user, dataset, k=20):\n",
    "    items = list(range(len(dataset.iid_2_item)))\n",
    "    ranking = build_ranking(model, [user], items, k).cpu().numpy()\n",
    "    return [dataset.item_by_id(i) for i in ranking[0]]\n",
    "    "
   ]
  },
  {
   "cell_type": "code",
   "execution_count": 7,
   "metadata": {},
   "outputs": [],
   "source": [
    "def summarize_results(losses, metrics, target_item, similars_cos, similars_l2, rec):\n",
    "    print(\"LOSS PLOT\")\n",
    "    plt.figure(figsize=(9,6))\n",
    "    plt.plot(list(range(len(losses))), losses)\n",
    "    plt.xlabel(\"Epoch\")\n",
    "    plt.ylabel(\"Loss\")\n",
    "    plt.grid()\n",
    "    plt.tight_layout()\n",
    "    plt.show()\n",
    "    print()\n",
    "    print(\"METRICS\")\n",
    "    for k in metrics:\n",
    "        print(f\"{k} :: {metrics[k]}\")\n",
    "    print()\n",
    "    print()\n",
    "    print(\"SIMILARS (COSINE DISTANCE)\")\n",
    "    print(f\"TARGET: {target_item}\")\n",
    "    for i, similar in enumerate(similars_cos):\n",
    "        print(f\"{i + 1}. {similar}\")\n",
    "    \n",
    "    print()\n",
    "    print(\"SIMILARS (L2 DISTANCE)\")\n",
    "    print(f\"TARGET: {target_item}\")\n",
    "    for i, similar in enumerate(similars_l2):\n",
    "        print(f\"{i + 1}. {similar}\")\n",
    "        \n",
    "    print()\n",
    "    print()\n",
    "    print(\"RECOMENDATIONS\")\n",
    "    for i, r in enumerate(rec):\n",
    "        print(f\"{i + 1}. {r}\")"
   ]
  },
  {
   "cell_type": "markdown",
   "metadata": {},
   "source": [
    "## Models"
   ]
  },
  {
   "cell_type": "code",
   "execution_count": null,
   "metadata": {},
   "outputs": [],
   "source": []
  },
  {
   "cell_type": "code",
   "execution_count": 8,
   "metadata": {},
   "outputs": [],
   "source": [
    "class NCF(nn.Module):\n",
    "    def __init__(self, user_count, item_count, latent_size=64, hidden_size=64):\n",
    "        super().__init__()\n",
    "        self.user_embedding = nn.Embedding(user_count, latent_size)\n",
    "        self.item_embedding = nn.Embedding(item_count, latent_size)\n",
    "        self.user_mf_embedding = nn.Embedding(user_count, latent_size)\n",
    "        self.item_mf_embedding = nn.Embedding(item_count, latent_size)\n",
    "        self.dense_net = nn.Sequential(\n",
    "            nn.Linear(2 * latent_size, hidden_size),\n",
    "            nn.ReLU(),\n",
    "            nn.Linear(hidden_size, hidden_size),\n",
    "            nn.ReLU(),\n",
    "            nn.Linear(hidden_size, hidden_size),\n",
    "        )\n",
    "        self.final_layer = nn.Sequential(\n",
    "            nn.Linear(hidden_size + latent_size, 1),\n",
    "            nn.Sigmoid()\n",
    "        )\n",
    "\n",
    "    def forward(self, user, item):\n",
    "        u = self.user_embedding(user)\n",
    "        i = self.item_embedding(item)\n",
    "        x = self.dense_net(torch.cat([u, i], dim=-1))\n",
    "        u = self.user_mf_embedding(user)\n",
    "        i = self.item_mf_embedding(item)\n",
    "        y = u * i\n",
    "        x = torch.cat([x, y], dim=-1)\n",
    "        return self.final_layer(x)\n",
    "\n",
    "    def compute_loss(self, y_pred, y_true):\n",
    "        return F.binary_cross_entropy(y_pred, y_true)"
   ]
  },
  {
   "cell_type": "markdown",
   "metadata": {},
   "source": [
    "## Train & results"
   ]
  },
  {
   "cell_type": "code",
   "execution_count": 9,
   "metadata": {},
   "outputs": [],
   "source": [
    "def train_model(model, dataset, epoch=500, lr=1e-3):\n",
    "    model.cuda()\n",
    "    optim = Adam(model.parameters(), lr=lr)\n",
    "    losses = []\n",
    "    for _ in tqdm(range(epoch)):\n",
    "        total_loss = 0.\n",
    "        total_batches = 0.\n",
    "        for batch in DataLoader(dataset, batch_size=128, num_workers=8, shuffle=True):\n",
    "            pos_u, pos_i, neg_u, neg_i = batch\n",
    "            pos_u = pos_u.cuda()\n",
    "            pos_i = pos_i.cuda()\n",
    "            neg_i = neg_i.cuda()\n",
    "            #neg_u = neg_u.cuda()\n",
    "            y_pred = model(pos_u, pos_i)\n",
    "            pos_loss = model.compute_loss(y_pred, torch.ones_like(y_pred).float())\n",
    "            y_pred = model(pos_u, neg_i)\n",
    "            neg_loss = model.compute_loss(y_pred, torch.zeros_like(y_pred).float())\n",
    "            #y_pred = model(neg_u, pos_i)\n",
    "            #neg_loss +=model.compute_loss(y_pred, torch.zeros_like(y_pred).float())\n",
    "            loss = (pos_loss + neg_loss) / 2\n",
    "            optim.zero_grad()\n",
    "            loss.backward()\n",
    "            optim.step()\n",
    "            total_loss += loss.item()\n",
    "            total_batches += 1\n",
    "        losses.append(total_loss / total_batches)\n",
    "    metrics = compute_metrics(model, dataset, k=10)\n",
    "    return losses, metrics"
   ]
  },
  {
   "cell_type": "code",
   "execution_count": null,
   "metadata": {},
   "outputs": [],
   "source": []
  },
  {
   "cell_type": "code",
   "execution_count": null,
   "metadata": {},
   "outputs": [],
   "source": []
  },
  {
   "cell_type": "code",
   "execution_count": 15,
   "metadata": {
    "scrolled": false
   },
   "outputs": [
    {
     "data": {
      "application/vnd.jupyter.widget-view+json": {
       "model_id": "e0f67497d09443eeaaeca72163398044",
       "version_major": 2,
       "version_minor": 0
      },
      "text/plain": [
       "HBox(children=(HTML(value=''), FloatProgress(value=0.0, max=500.0), HTML(value='')))"
      ]
     },
     "metadata": {},
     "output_type": "display_data"
    },
    {
     "name": "stdout",
     "output_type": "stream",
     "text": [
      "\n"
     ]
    },
    {
     "data": {
      "application/vnd.jupyter.widget-view+json": {
       "model_id": "f96953b74d214e7db029295760f922a5",
       "version_major": 2,
       "version_minor": 0
      },
      "text/plain": [
       "HBox(children=(HTML(value=''), FloatProgress(value=0.0, max=1024.0), HTML(value='')))"
      ]
     },
     "metadata": {},
     "output_type": "display_data"
    },
    {
     "name": "stdout",
     "output_type": "stream",
     "text": [
      "\n"
     ]
    },
    {
     "data": {
      "application/vnd.jupyter.widget-view+json": {
       "model_id": "ca193d4c4bca43108cb0bacf2abf15a8",
       "version_major": 2,
       "version_minor": 0
      },
      "text/plain": [
       "HBox(children=(HTML(value=''), FloatProgress(value=0.0, max=1.0), HTML(value='')))"
      ]
     },
     "metadata": {},
     "output_type": "display_data"
    },
    {
     "name": "stdout",
     "output_type": "stream",
     "text": [
      "\n",
      "LOSS PLOT\n"
     ]
    },
    {
     "data": {
      "image/png": "[encoded data removed]",
      "text/plain": [
       "<Figure size 648x432 with 1 Axes>"
      ]
     },
     "metadata": {
      "needs_background": "light"
     },
     "output_type": "display_data"
    },
    {
     "name": "stdout",
     "output_type": "stream",
     "text": [
      "\n",
      "METRICS\n",
      "mAP@10 :: 0.9820896948912669\n",
      "NDCG@10 :: 0.9889475374877991\n",
      "\n",
      "\n",
      "SIMILARS (COSINE DISTANCE)\n",
      "TARGET: Fallout 4\n",
      "1. Cargo Commander\n",
      "2. Coffin Dodgers\n",
      "3. Mishap An Accidental Haunting\n",
      "4. NiGHTS into Dreams...\n",
      "5. Anarchy Arcade\n",
      "6. Wickland\n",
      "7. The Detail\n",
      "8. FootLOL Epic Fail League\n",
      "9. Mad Games Tycoon\n",
      "10. Killer is Dead\n",
      "11. The Book of Unwritten Tales The Critter Chronicles\n",
      "12. Royal Defense\n",
      "13. Relic Hunters Zero\n",
      "14. Deepworld\n",
      "15. The Albino Hunter\n",
      "16. Call to Arms\n",
      "17. Pinball Arcade\n",
      "18. Warhammer Online Age of Reckoning\n",
      "19. Football Manager 2016 Demo\n",
      "20. And Yet It Moves\n",
      "\n",
      "SIMILARS (L2 DISTANCE)\n",
      "TARGET: Fallout 4\n",
      "1. Medal of Honor(TM) Single Player\n",
      "2. Castle Crashers\n",
      "3. Ragnarok\n",
      "4. Undertale\n",
      "5. Never Alone (Kisima Ingitchuna)\n",
      "6. Unreal Tournament 3 Black Edition\n",
      "7. Tomb Raider I\n",
      "8. The LEGO Movie - Videogame\n",
      "9. Dead Horde\n",
      "10. RIFT\n",
      "11. Hard Reset\n",
      "12. Deus Ex Human Revolution - Director's Cut\n",
      "13. Fuse\n",
      "14. Plants vs. Zombies Game of the Year\n",
      "15. The Secret of Monkey Island Special Edition\n",
      "16. Wargame European Escalation\n",
      "17. Overlord Raising Hell\n",
      "18. King's Bounty The Legend\n",
      "19. Worms Revolution\n",
      "20. Batman Arkham Asylum\n",
      "\n",
      "\n",
      "RECOMENDATIONS\n",
      "1. Fallout New Vegas\n",
      "2. Dark Souls Prepare to Die Edition\n",
      "3. BioShock Infinite\n",
      "4. HuniePop\n",
      "5. Path of Exile\n",
      "6. The Banner Saga\n",
      "7. The Elder Scrolls V Skyrim\n",
      "8. Spore\n",
      "9. Dragon Age Origins - Ultimate Edition\n",
      "10. Left 4 Dead\n",
      "11. Tomb Raider\n",
      "12. Fallout 4\n",
      "13. Left 4 Dead 2\n",
      "14. Poly Bridge\n",
      "15. Grand Theft Auto V\n",
      "16. Dead Island Epidemic\n",
      "17. Counter-Strike Global Offensive\n",
      "18. Age of Wonders III\n",
      "19. Team Fortress 2\n",
      "20. PAYDAY 2\n"
     ]
    }
   ],
   "source": [
    "dataset = SteamDataset(\"steam-200k.csv\")\n",
    "model = NCF(len(dataset.uid_2_user), len(dataset.iid_2_item))\n",
    "losses, metrics = train_model(model, dataset, epoch=500)\n",
    "item_name, similars_cos, similars_l2 = find_similars(model, 1, dataset, k=20)\n",
    "rec = make_recommendations(model, 0, dataset)\n",
    "summarize_results(losses, metrics, item_name, similars_cos, similars_l2, rec)"
   ]
  },
  {
   "cell_type": "code",
   "execution_count": null,
   "metadata": {},
   "outputs": [],
   "source": []
  },
  {
   "cell_type": "code",
   "execution_count": 18,
   "metadata": {
    "scrolled": false
   },
   "outputs": [
    {
     "data": {
      "application/vnd.jupyter.widget-view+json": {
       "model_id": "064eb7830dfb4b758a393e907ec5d295",
       "version_major": 2,
       "version_minor": 0
      },
      "text/plain": [
       "HBox(children=(HTML(value=''), FloatProgress(value=0.0, max=500.0), HTML(value='')))"
      ]
     },
     "metadata": {},
     "output_type": "display_data"
    },
    {
     "name": "stdout",
     "output_type": "stream",
     "text": [
      "\n"
     ]
    },
    {
     "data": {
      "application/vnd.jupyter.widget-view+json": {
       "model_id": "c24605fda6d04e0da43d6256f3cedd2a",
       "version_major": 2,
       "version_minor": 0
      },
      "text/plain": [
       "HBox(children=(HTML(value=''), FloatProgress(value=0.0, max=609.0), HTML(value='')))"
      ]
     },
     "metadata": {},
     "output_type": "display_data"
    },
    {
     "name": "stdout",
     "output_type": "stream",
     "text": [
      "\n"
     ]
    },
    {
     "data": {
      "application/vnd.jupyter.widget-view+json": {
       "model_id": "12b09c03017f4da085ade6ebbc4968ba",
       "version_major": 2,
       "version_minor": 0
      },
      "text/plain": [
       "HBox(children=(HTML(value=''), FloatProgress(value=0.0, max=1.0), HTML(value='')))"
      ]
     },
     "metadata": {},
     "output_type": "display_data"
    },
    {
     "name": "stdout",
     "output_type": "stream",
     "text": [
      "\n",
      "LOSS PLOT\n"
     ]
    },
    {
     "data": {
      "image/png": "[encoded data removed]",
      "text/plain": [
       "<Figure size 648x432 with 1 Axes>"
      ]
     },
     "metadata": {
      "needs_background": "light"
     },
     "output_type": "display_data"
    },
    {
     "name": "stdout",
     "output_type": "stream",
     "text": [
      "\n",
      "METRICS\n",
      "mAP@10 :: 0.8475591889586817\n",
      "NDCG@10 :: 0.9019320682547356\n",
      "\n",
      "\n",
      "SIMILARS (COSINE DISTANCE)\n",
      "TARGET: Toy Story (1995)\n",
      "1. Jim Jefferies: I Swear to God (2009)\n",
      "2. Goodbye, Mr. Chips (1939)\n",
      "3. Get Him to the Greek (2010)\n",
      "4. Berlin Calling (2008)\n",
      "5. The Spiral Staircase (1945)\n",
      "6. Gunga Din (1939)\n",
      "7. Garfield: The Movie (2004)\n",
      "8. Saw II (2005)\n",
      "9. I, Frankenstein (2014)\n",
      "10. Rent (2005)\n",
      "11. Memories (Memorîzu) (1995)\n",
      "12. Luzhin Defence, The (2000)\n",
      "13. First Monday in October (1981)\n",
      "14. Wind Rises, The (Kaze tachinu) (2013)\n",
      "15. All Watched Over by Machines of Loving Grace (2011)\n",
      "16. Jump In! (2007)\n",
      "17. Forces of Nature (1999)\n",
      "18. Paranoid Park (2007)\n",
      "19. The Do-Over (2016)\n",
      "20. Snatched (2017)\n",
      "\n",
      "SIMILARS (L2 DISTANCE)\n",
      "TARGET: Toy Story (1995)\n",
      "1. Jurassic Park (1993)\n",
      "2. Sin City (2005)\n",
      "3. Demolition Man (1993)\n",
      "4. Mulholland Drive (2001)\n",
      "5. Horrible Bosses (2011)\n",
      "6. Skyfall (2012)\n",
      "7. Crouching Tiger, Hidden Dragon (Wo hu cang long) (2000)\n",
      "8. Three Colors: White (Trzy kolory: Bialy) (1994)\n",
      "9. Shutter Island (2010)\n",
      "10. King Kong (1976)\n",
      "11. Armageddon (1998)\n",
      "12. Gifted (2017)\n",
      "13. I, Robot (2004)\n",
      "14. Raiders of the Lost Ark (Indiana Jones and the Raiders of the Lost Ark) (1981)\n",
      "15. Kingdom, The (2007)\n",
      "16. Cloud Atlas (2012)\n",
      "17. Mission: Impossible - Ghost Protocol (2011)\n",
      "18. Dallas Buyers Club (2013)\n",
      "19. Crocodile Dundee (1986)\n",
      "20. Run Lola Run (Lola rennt) (1998)\n",
      "\n",
      "\n",
      "RECOMENDATIONS\n",
      "1. Toy Story (1995)\n",
      "2. Braveheart (1995)\n",
      "3. Canadian Bacon (1995)\n",
      "4. Fugitive, The (1993)\n",
      "5. She's the One (1996)\n",
      "6. Adventures of Robin Hood, The (1938)\n",
      "7. Ghost and Mrs. Muir, The (1947)\n",
      "8. Three Caballeros, The (1945)\n",
      "9. Dumbo (1941)\n",
      "10. Bedknobs and Broomsticks (1971)\n",
      "11. Raiders of the Lost Ark (Indiana Jones and the Raiders of the Lost Ark) (1981)\n",
      "12. Blues Brothers, The (1980)\n",
      "13. Henry V (1989)\n",
      "14. Quiet Man, The (1952)\n",
      "15. Groundhog Day (1993)\n",
      "16. Best Men (1997)\n",
      "17. Austin Powers: International Man of Mystery (1997)\n",
      "18. Conan the Barbarian (1982)\n",
      "19. Kiss the Girls (1997)\n",
      "20. Game, The (1997)\n"
     ]
    }
   ],
   "source": [
    "dataset = MovielensDataset(\"movielens_small\")\n",
    "model = NCF(len(dataset.uid_2_user), len(dataset.iid_2_item))\n",
    "losses, metrics = train_model(model, dataset, epoch=500)\n",
    "item_name, similars_cos, similars_l2 = find_similars(model, 0, dataset, k=20)\n",
    "rec = make_recommendations(model, 0, dataset)\n",
    "summarize_results(losses, metrics, item_name, similars_cos, similars_l2, rec)"
   ]
  },
  {
   "cell_type": "code",
   "execution_count": null,
   "metadata": {},
   "outputs": [],
   "source": []
  },
  {
   "cell_type": "code",
   "execution_count": null,
   "metadata": {},
   "outputs": [],
   "source": []
  }
 ],
 "metadata": {
  "kernelspec": {
   "display_name": "Python 3",
   "language": "python",
   "name": "python3"
  },
  "language_info": {
   "codemirror_mode": {
    "name": "ipython",
    "version": 3
   },
   "file_extension": ".py",
   "mimetype": "text/x-python",
   "name": "python",
   "nbconvert_exporter": "python",
   "pygments_lexer": "ipython3",
   "version": "3.8.5"
  }
 },
 "nbformat": 4,
 "nbformat_minor": 2
}
