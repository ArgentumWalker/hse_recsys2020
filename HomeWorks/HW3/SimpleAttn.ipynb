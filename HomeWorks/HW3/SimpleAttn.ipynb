{
 "cells": [
  {
   "cell_type": "code",
   "execution_count": 1,
   "metadata": {},
   "outputs": [],
   "source": [
    "import torch\n",
    "from torch import nn\n",
    "from torch.nn import functional as F\n",
    "from torch.utils.data import Dataset, DataLoader\n",
    "from torch.optim import Adam\n",
    "\n",
    "import pandas as pd\n",
    "\n",
    "\n",
    "import numpy as np\n",
    "import random\n",
    "from tqdm.notebook import tqdm\n",
    "import matplotlib.pyplot as plt"
   ]
  },
  {
   "cell_type": "code",
   "execution_count": null,
   "metadata": {},
   "outputs": [],
   "source": []
  },
  {
   "cell_type": "code",
   "execution_count": null,
   "metadata": {},
   "outputs": [],
   "source": []
  },
  {
   "cell_type": "markdown",
   "metadata": {},
   "source": [
    "## Datasets"
   ]
  },
  {
   "cell_type": "markdown",
   "metadata": {},
   "source": [
    "MovieLens dataset: https://www.kaggle.com/shubhammehta21/movie-lens-small-latest-dataset\n",
    "\n",
    "Наверное, самый часто используемый датасет.\n",
    "\n",
    "\n",
    "Steam games dataset: https://www.kaggle.com/tamber/steam-video-games\n",
    "\n",
    "Просто потому что интересно. А еще он относительно маленький, и на нем можно легко отлаживать код."
   ]
  },
  {
   "cell_type": "code",
   "execution_count": 2,
   "metadata": {},
   "outputs": [],
   "source": [
    "class RecsysDataset(Dataset):\n",
    "    def __init__(self, history_len, repeats=10):\n",
    "        self.history_len = history_len\n",
    "        self.repeats = repeats\n",
    "    \n",
    "    def __getitem__(self, index):\n",
    "        pu = index % len(self.uid_2_user)\n",
    "        positives = self.user2relevant[pu]\n",
    "        negatives = list(self.user2negatives[pu])\n",
    "        history = random.choices(positives, k = self.history_len + 1)\n",
    "        history, target = history[:-1], history[-1]\n",
    "        ni = random.choice(negatives)\n",
    "        return pu, torch.tensor(history, dtype=torch.long), target, ni\n",
    "    \n",
    "    def __len__(self):\n",
    "        return self.repeats * len(self.uid_2_user)\n",
    "    \n",
    "    def get_user_relevant(self, user_id):\n",
    "        return self.user2relevant[user_id]"
   ]
  },
  {
   "cell_type": "code",
   "execution_count": 3,
   "metadata": {},
   "outputs": [],
   "source": [
    "class MovielensDataset(RecsysDataset):\n",
    "    def __init__(self, path, history_len=16, repeats=100, rating_threshold=4.0):\n",
    "        super().__init__(history_len, repeats)\n",
    "        df = pd.read_csv(f\"{path}/ratings.csv\")\n",
    "        df = df[df[\"rating\"] >= rating_threshold]\n",
    "        df = df[df[\"userId\"].isin(df[\"userId\"].value_counts()[df[\"userId\"].value_counts() > history_len].index)]\n",
    "\n",
    "        unique_users = df[\"userId\"].unique()\n",
    "        self.uid_2_user = dict([(i, user) for i, user in enumerate(unique_users)])\n",
    "        self.user_2_uid = dict([(user, i) for i, user in enumerate(unique_users)])\n",
    "        unique_items = df[\"movieId\"].unique()\n",
    "        self.iid_2_item = dict([(i, item) for i, item in enumerate(unique_items)])\n",
    "        self.item_2_iid = dict([(item, i) for i, item in enumerate(unique_items)])\n",
    "        movie_ds = pd.read_csv(f\"{path}/movies.csv\")\n",
    "        id2name = list(zip(movie_ds[\"movieId\"], movie_ds[\"title\"]))\n",
    "        self.iid_2_name = dict([(self.item_2_iid[i], name) for i, name in id2name if i in self.item_2_iid])\n",
    "        self.positive_users = df[\"userId\"].map(lambda x: self.user_2_uid[x]).to_list()\n",
    "        self.positive_items = df[\"movieId\"].map(lambda x: self.item_2_iid[x]).to_list()\n",
    "        \n",
    "        self.user2negatives = [set(range(len(unique_items))) for _ in unique_users]\n",
    "        self.item2negatives = [set(range(len(unique_users))) for _ in unique_items]\n",
    "        self.user2relevant = [[] for _ in unique_users]\n",
    "        for u, i in zip(self.positive_users, self.positive_items):\n",
    "            self.user2relevant[u].append(i)\n",
    "            self.user2negatives[u].discard(i)\n",
    "            self.item2negatives[i].discard(u)\n",
    "            \n",
    "    def item_by_id(self, i):\n",
    "        return self.iid_2_name[i] if i in self.iid_2_name else self.iid_2_item[i]"
   ]
  },
  {
   "cell_type": "code",
   "execution_count": null,
   "metadata": {},
   "outputs": [],
   "source": []
  },
  {
   "cell_type": "code",
   "execution_count": 4,
   "metadata": {},
   "outputs": [],
   "source": [
    "class SteamDataset(RecsysDataset):\n",
    "    def __init__(self, path, history_len=16, repeats=100, is_purchase=False, play_threshold=1.0):\n",
    "        super().__init__(history_len, repeats)\n",
    "        df = pd.read_csv(path, header=None)\n",
    "        if is_purchase:\n",
    "            df = df[df[2] == \"purchase\"]\n",
    "        else:\n",
    "            df = df[(df[2] == \"play\") & (df[3] >= play_threshold)]\n",
    "        df = df[df[0].isin(df[0].value_counts()[df[0].value_counts() > history_len].index)]\n",
    "\n",
    "        unique_users = df[0].unique()\n",
    "        self.uid_2_user = dict([(i, user) for i, user in enumerate(unique_users)])\n",
    "        self.user_2_uid = dict([(user, i) for i, user in enumerate(unique_users)])\n",
    "        unique_items = df[1].unique()\n",
    "        self.iid_2_item = dict([(i, item) for i, item in enumerate(unique_items)])\n",
    "        self.item_2_iid = dict([(item, i) for i, item in enumerate(unique_items)])\n",
    "        self.positive_users = df[0].map(lambda x: self.user_2_uid[x]).to_list()\n",
    "        self.positive_items = df[1].map(lambda x: self.item_2_iid[x]).to_list()\n",
    "        \n",
    "        self.user2negatives = [set(range(len(unique_items))) for _ in unique_users]\n",
    "        self.item2negatives = [set(range(len(unique_users))) for _ in unique_items]\n",
    "        self.user2relevant = [[] for _ in unique_users]\n",
    "        for u, i in zip(self.positive_users, self.positive_items):\n",
    "            self.user2relevant[u].append(i)\n",
    "            self.user2negatives[u].discard(i)\n",
    "            self.item2negatives[i].discard(u)\n",
    "            \n",
    "    def item_by_id(self, i):\n",
    "        return self.iid_2_item[i]"
   ]
  },
  {
   "cell_type": "markdown",
   "metadata": {},
   "source": [
    "## Код для анализа результатов"
   ]
  },
  {
   "cell_type": "code",
   "execution_count": null,
   "metadata": {},
   "outputs": [],
   "source": []
  },
  {
   "cell_type": "code",
   "execution_count": null,
   "metadata": {},
   "outputs": [],
   "source": []
  },
  {
   "cell_type": "code",
   "execution_count": 5,
   "metadata": {},
   "outputs": [],
   "source": [
    "def build_ranking(model, users, histories, items, k):\n",
    "    items = torch.tensor(items, dtype=torch.long).cuda()\n",
    "    users = torch.tensor(users, dtype=torch.long).cuda()\n",
    "    histories = torch.tensor(histories, dtype=torch.long).cuda()\n",
    "    rankings = []\n",
    "    with torch.no_grad():\n",
    "        for u in tqdm(range(len(users))):\n",
    "            user = users[u:u+1].expand_as(items)\n",
    "            history = histories[u:u+1].expand(len(items), -1)\n",
    "            values = model(user, items, history)\n",
    "            values = values.view(-1)\n",
    "            ranking = items[torch.argsort(values, descending=True)[:k]]\n",
    "            rankings.append(ranking)\n",
    "    return torch.stack(rankings)\n",
    "\n",
    "def compute_metrics(model, dataset, max_users_ctn=1024, max_items_ctn=2**15, k=10, history_size=16):\n",
    "    # Build rankings according to model and datset\n",
    "    if max_users_ctn >= len(dataset.uid_2_user):\n",
    "        users = list(range(len(dataset.uid_2_user)))\n",
    "    else:\n",
    "        users = np.random.choice(len(dataset.uid_2_user), max_users_ctn)\n",
    "    histories = [random.choices(dataset.get_user_relevant(u), k = history_size) for u in users]\n",
    "    \n",
    "    if max_items_ctn >= len(dataset.iid_2_item):\n",
    "        items = list(range(len(dataset.iid_2_item)))\n",
    "    else:\n",
    "        items = np.random.choice(len(dataset.iid_2_item), max_items_ctn)\n",
    "    \n",
    "    ranking = build_ranking(model, users, histories, items, k).cpu().numpy()\n",
    "    \n",
    "    # Compute metrics\n",
    "    map_at_k = 0.\n",
    "    ndcg_at_k = 0.\n",
    "    for i, u in enumerate(users):\n",
    "        rank = ranking[i]\n",
    "        relevant = set(dataset.get_user_relevant(u))\n",
    "        ap_at_k = 0.\n",
    "        ctn = 0\n",
    "        dcg_at_k = 0\n",
    "        idcg_at_k = 0\n",
    "        for j in range(k):\n",
    "            if rank[j] in relevant:\n",
    "                ctn += 1\n",
    "                ap_at_k += ctn / (j + 1)\n",
    "                dcg_at_k += 1 / np.log(j+2)\n",
    "            if len(relevant) > j:\n",
    "                idcg_at_k += 1 / np.log(j+2)\n",
    "        ap_at_k /= min(k, max(len(relevant), 1))\n",
    "        ndcg_at_k += dcg_at_k / len(users) / idcg_at_k\n",
    "        map_at_k += ap_at_k / len(users)\n",
    "    return {f\"mAP@{k}\": map_at_k, f\"NDCG@{k}\": ndcg_at_k}"
   ]
  },
  {
   "cell_type": "code",
   "execution_count": null,
   "metadata": {},
   "outputs": [],
   "source": []
  },
  {
   "cell_type": "code",
   "execution_count": 6,
   "metadata": {},
   "outputs": [],
   "source": [
    "def find_similars(model, item, dataset, k=20):\n",
    "    with torch.no_grad():\n",
    "        embs = model.item_embedding.weight\n",
    "        item_emb = embs[item].unsqueeze(0).expand_as(embs)\n",
    "        norm = (embs**2).sum(-1)**0.5\n",
    "        dist_cos = ((embs * item_emb).sum(-1)) / norm\n",
    "        dist_l2 = ((embs - item_emb)**2).sum(-1)**0.5 # L2 distance\n",
    "        closest_cos = torch.argsort(dist_cos, descending=False)[1:k+1].cpu().numpy()\n",
    "        closest_l2 = torch.argsort(dist_l2, descending=False)[1:k+1].cpu().numpy()\n",
    "        return dataset.item_by_id(item), [dataset.item_by_id(i) for i in closest_cos], [dataset.item_by_id(i) for i in closest_l2]\n",
    "    \n",
    "def make_recommendations(model, user, dataset, k=20, history_size=16):\n",
    "    items = list(range(len(dataset.iid_2_item)))\n",
    "    history = [random.choices(dataset.get_user_relevant(user), k = history_size)]\n",
    "    ranking = build_ranking(model, [user], history, items, k).cpu().numpy()\n",
    "    return [dataset.item_by_id(i) for i in ranking[0]]\n",
    "    "
   ]
  },
  {
   "cell_type": "code",
   "execution_count": 12,
   "metadata": {},
   "outputs": [],
   "source": [
    "def summarize_results(losses, metrics, target_item, similars_cos, similars_l2, rec):\n",
    "    print(\"LOSS PLOT\")\n",
    "    plt.figure(figsize=(9,6))\n",
    "    plt.plot(list(range(len(losses))), losses)\n",
    "    plt.xlabel(\"Epoch\")\n",
    "    plt.ylabel(\"Loss\")\n",
    "    plt.grid()\n",
    "    plt.tight_layout()\n",
    "    plt.show()\n",
    "    print()\n",
    "    print(\"METRICS\")\n",
    "    for k in metrics:\n",
    "        print(f\"{k} :: {metrics[k]}\")\n",
    "    print()\n",
    "    print()\n",
    "    print(\"SIMILARS (COSINE DISTANCE)\")\n",
    "    print(f\"TARGET: {target_item}\")\n",
    "    for i, similar in enumerate(similars_cos):\n",
    "        print(f\"{i + 1}. {similar}\")\n",
    "    \n",
    "    print()\n",
    "    print(\"SIMILARS (L2 DISTANCE)\")\n",
    "    print(f\"TARGET: {target_item}\")\n",
    "    for i, similar in enumerate(similars_l2):\n",
    "        print(f\"{i + 1}. {similar}\")\n",
    "        \n",
    "    print()\n",
    "    print()\n",
    "    print(\"RECOMENDATIONS\")\n",
    "    for i, r in enumerate(rec):\n",
    "        print(f\"{i + 1}. {r}\")"
   ]
  },
  {
   "cell_type": "markdown",
   "metadata": {},
   "source": [
    "## Models"
   ]
  },
  {
   "cell_type": "code",
   "execution_count": null,
   "metadata": {},
   "outputs": [],
   "source": []
  },
  {
   "cell_type": "code",
   "execution_count": 13,
   "metadata": {},
   "outputs": [],
   "source": [
    "class SimpleAttn(nn.Module):\n",
    "    def __init__(self, user_count, item_count, latent_size=64, hidden_size=64):\n",
    "        super().__init__()\n",
    "        self.user_embedding = nn.Embedding(user_count, latent_size)\n",
    "        self.item_embedding = nn.Embedding(item_count, latent_size)\n",
    "        self.attn_net = nn.Sequential(\n",
    "            nn.Linear(2 * latent_size, hidden_size),\n",
    "            nn.ReLU(),\n",
    "            nn.Linear(hidden_size, hidden_size),\n",
    "            nn.ReLU(),\n",
    "            nn.Linear(hidden_size, 1)\n",
    "        )\n",
    "        \n",
    "        self.dense_net = nn.Sequential(\n",
    "            nn.Linear(3 * latent_size, hidden_size),\n",
    "            nn.ReLU(),\n",
    "            nn.Linear(hidden_size, hidden_size),\n",
    "            nn.ReLU(),\n",
    "            nn.Linear(hidden_size, 1),\n",
    "            nn.Sigmoid()\n",
    "        )\n",
    "\n",
    "    def forward(self, user, item, history):\n",
    "        h = self.item_embedding(history)\n",
    "        u = self.user_embedding(user)\n",
    "        i = self.item_embedding(item)\n",
    "        query = i.unsqueeze(-2).expand_as(h)\n",
    "        key_query = torch.cat([h, query], dim=-1)\n",
    "        attn = F.softmax(self.attn_net(key_query), dim=-2)\n",
    "        h = (attn.expand_as(h) * h).sum(-2)\n",
    "        x = self.dense_net(torch.cat([u, i, h], dim=-1))\n",
    "        return x\n",
    "\n",
    "    def compute_loss(self, y_pred, y_true):\n",
    "        return F.binary_cross_entropy(y_pred, y_true)"
   ]
  },
  {
   "cell_type": "markdown",
   "metadata": {},
   "source": [
    "## Train & results"
   ]
  },
  {
   "cell_type": "code",
   "execution_count": 14,
   "metadata": {},
   "outputs": [],
   "source": [
    "def train_model(model, dataset, epoch=500, lr=1e-4):\n",
    "    model.cuda()\n",
    "    optim = Adam(model.parameters(), lr=lr)\n",
    "    losses = []\n",
    "    for _ in tqdm(range(epoch)):\n",
    "        total_loss = 0.\n",
    "        total_batches = 0.\n",
    "        for batch in DataLoader(dataset, batch_size=128, num_workers=12, shuffle=True, pin_memory=True):\n",
    "            pos_u, history, pos_i, neg_i = batch\n",
    "            pos_u = pos_u.cuda()\n",
    "            pos_i = pos_i.cuda()\n",
    "            neg_i = neg_i.cuda()\n",
    "            history = history.cuda()\n",
    "            y_pred = model(pos_u, pos_i, history)\n",
    "            pos_loss = model.compute_loss(y_pred, torch.ones_like(y_pred).float())\n",
    "            y_pred = model(pos_u, neg_i, history)\n",
    "            neg_loss = model.compute_loss(y_pred, torch.zeros_like(y_pred).float())\n",
    "            loss = (pos_loss + neg_loss) / 2\n",
    "            optim.zero_grad()\n",
    "            loss.backward()\n",
    "            optim.step()\n",
    "            total_loss += loss.item()\n",
    "            total_batches += 1\n",
    "        losses.append(total_loss / total_batches)\n",
    "    metrics = compute_metrics(model, dataset, k=10)\n",
    "    return losses, metrics"
   ]
  },
  {
   "cell_type": "code",
   "execution_count": 15,
   "metadata": {
    "scrolled": false
   },
   "outputs": [
    {
     "data": {
      "application/vnd.jupyter.widget-view+json": {
       "model_id": "19e36f7e7279497d9729a7a9f485ef99",
       "version_major": 2,
       "version_minor": 0
      },
      "text/plain": [
       "HBox(children=(HTML(value=''), FloatProgress(value=0.0, max=500.0), HTML(value='')))"
      ]
     },
     "metadata": {},
     "output_type": "display_data"
    },
    {
     "name": "stdout",
     "output_type": "stream",
     "text": [
      "\n"
     ]
    },
    {
     "data": {
      "application/vnd.jupyter.widget-view+json": {
       "model_id": "bda3ae4d472246fc85b6b96881104b20",
       "version_major": 2,
       "version_minor": 0
      },
      "text/plain": [
       "HBox(children=(HTML(value=''), FloatProgress(value=0.0, max=739.0), HTML(value='')))"
      ]
     },
     "metadata": {},
     "output_type": "display_data"
    },
    {
     "name": "stdout",
     "output_type": "stream",
     "text": [
      "\n"
     ]
    },
    {
     "data": {
      "application/vnd.jupyter.widget-view+json": {
       "model_id": "fe0dce80a3564c31b0e947255f73ebb7",
       "version_major": 2,
       "version_minor": 0
      },
      "text/plain": [
       "HBox(children=(HTML(value=''), FloatProgress(value=0.0, max=1.0), HTML(value='')))"
      ]
     },
     "metadata": {},
     "output_type": "display_data"
    },
    {
     "name": "stdout",
     "output_type": "stream",
     "text": [
      "\n",
      "LOSS PLOT\n"
     ]
    },
    {
     "data": {
      "image/png": "[encoded data removed]",
      "text/plain": [
       "<Figure size 648x432 with 1 Axes>"
      ]
     },
     "metadata": {
      "needs_background": "light"
     },
     "output_type": "display_data"
    },
    {
     "name": "stdout",
     "output_type": "stream",
     "text": [
      "\n",
      "METRICS\n",
      "mAP@10 :: 0.957195427110846\n",
      "NDCG@10 :: 0.9744940471437195\n",
      "\n",
      "\n",
      "SIMILARS (COSINE DISTANCE)\n",
      "TARGET: S.T.A.L.K.E.R. Shadow of Chernobyl\n",
      "1. Insurgency\n",
      "2. Great Permutator\n",
      "3. Divinity Original Sin Enhanced Edition\n",
      "4. Lume\n",
      "5. Red Faction\n",
      "6. Boo Bunny Plague\n",
      "7. Deadfall Adventures\n",
      "8. Ys I\n",
      "9. Solstice Arena\n",
      "10. Portal\n",
      "11. 16bit Trader\n",
      "12. Borderless Gaming\n",
      "13. Forge\n",
      "14. Bloody Good Time\n",
      "15. Bad Hotel\n",
      "16. The Guild II Renaissance\n",
      "17. Avernum 4\n",
      "18. I am Bread\n",
      "19. Wargame AirLand Battle\n",
      "20. Yet Another Zombie Defense\n",
      "\n",
      "SIMILARS (L2 DISTANCE)\n",
      "TARGET: S.T.A.L.K.E.R. Shadow of Chernobyl\n",
      "1. Mount & Blade Warband\n",
      "2. Shadow Warrior Classic (1997)\n",
      "3. Battlefield Bad Company 2\n",
      "4. Audiosurf 2\n",
      "5. Street Fighter IV\n",
      "6. Convoy\n",
      "7. Zafehouse Diaries\n",
      "8. Cryostasis\n",
      "9. RAGE\n",
      "10. Sleeping Dogs\n",
      "11. Deus Ex Human Revolution - Director's Cut\n",
      "12. The Amazing Spider-Man 2\n",
      "13. Spectraball\n",
      "14. Assault Android Cactus\n",
      "15. Breath of Death VII \n",
      "16. VoidExpanse\n",
      "17. Making History The Calm & The Storm\n",
      "18. Loadout\n",
      "19. Stubbs the Zombie in Rebel Without a Pulse\n",
      "20. Half-Life\n",
      "\n",
      "\n",
      "RECOMENDATIONS\n",
      "1. Kairo\n",
      "2. DiRT Showdown\n",
      "3. Saints Row IV\n",
      "4. Far Cry 3 Blood Dragon\n",
      "5. Rivals of Aether\n",
      "6. Age of Empires II HD Edition\n",
      "7. Sonic Adventure 2 \n",
      "8. Receiver\n",
      "9. NaissanceE\n",
      "10. Middle-earth Shadow of Mordor\n",
      "11. NOT A HERO\n",
      "12. Rebuild 3 Gangs of Deadsville\n",
      "13. FTL Faster Than Light\n",
      "14. Overgrowth\n",
      "15. Distance\n",
      "16. Dust An Elysian Tail\n",
      "17. Miasmata\n",
      "18. Assassin's Creed II\n",
      "19. F.E.A.R. 2 Project Origin\n",
      "20. Watch_Dogs\n"
     ]
    }
   ],
   "source": [
    "dataset = SteamDataset(\"steam-200k.csv\")\n",
    "model = SimpleAttn(len(dataset.uid_2_user), len(dataset.iid_2_item))\n",
    "losses, metrics = train_model(model, dataset, epoch=500, lr=1e-3)\n",
    "item_name, similars_cos, similars_l2 = find_similars(model, 4, dataset, k=20)\n",
    "rec = make_recommendations(model, 0, dataset)\n",
    "summarize_results(losses, metrics, item_name, similars_cos, similars_l2, rec)"
   ]
  },
  {
   "cell_type": "code",
   "execution_count": 16,
   "metadata": {
    "scrolled": false
   },
   "outputs": [
    {
     "data": {
      "application/vnd.jupyter.widget-view+json": {
       "model_id": "ee55b65e23e6446b8787404e929ab887",
       "version_major": 2,
       "version_minor": 0
      },
      "text/plain": [
       "HBox(children=(HTML(value=''), FloatProgress(value=0.0, max=500.0), HTML(value='')))"
      ]
     },
     "metadata": {},
     "output_type": "display_data"
    },
    {
     "name": "stdout",
     "output_type": "stream",
     "text": [
      "\n"
     ]
    },
    {
     "data": {
      "application/vnd.jupyter.widget-view+json": {
       "model_id": "18f8dd4f126e49b3a4e7c3b83526bbd8",
       "version_major": 2,
       "version_minor": 0
      },
      "text/plain": [
       "HBox(children=(HTML(value=''), FloatProgress(value=0.0, max=501.0), HTML(value='')))"
      ]
     },
     "metadata": {},
     "output_type": "display_data"
    },
    {
     "name": "stdout",
     "output_type": "stream",
     "text": [
      "\n"
     ]
    },
    {
     "data": {
      "application/vnd.jupyter.widget-view+json": {
       "model_id": "37026d0c308e479abdc0c51c35efb458",
       "version_major": 2,
       "version_minor": 0
      },
      "text/plain": [
       "HBox(children=(HTML(value=''), FloatProgress(value=0.0, max=1.0), HTML(value='')))"
      ]
     },
     "metadata": {},
     "output_type": "display_data"
    },
    {
     "name": "stdout",
     "output_type": "stream",
     "text": [
      "\n",
      "LOSS PLOT\n"
     ]
    },
    {
     "data": {
      "image/png": "[encoded data removed]",
      "text/plain": [
       "<Figure size 648x432 with 1 Axes>"
      ]
     },
     "metadata": {
      "needs_background": "light"
     },
     "output_type": "display_data"
    },
    {
     "name": "stdout",
     "output_type": "stream",
     "text": [
      "\n",
      "METRICS\n",
      "mAP@10 :: 0.8984557868390273\n",
      "NDCG@10 :: 0.9382694232748883\n",
      "\n",
      "\n",
      "SIMILARS (COSINE DISTANCE)\n",
      "TARGET: Toy Story (1995)\n",
      "1. Zoolander (2001)\n",
      "2. Bulworth (1998)\n",
      "3. Others, The (2001)\n",
      "4. Bridge, The (2006)\n",
      "5. Videodrome (1983)\n",
      "6. Chappie (2015)\n",
      "7. Coal Miner's Daughter (1980)\n",
      "8. Dolls (2002)\n",
      "9. Wedding Crashers (2005)\n",
      "10. Family Man, The (2000)\n",
      "11. Rambo (Rambo 4) (2008)\n",
      "12. Jurassic World: Fallen Kingdom (2018)\n",
      "13. Night at the Roxbury, A (1998)\n",
      "14. Charlie's Angels: Full Throttle (2003)\n",
      "15. Sicko (2007)\n",
      "16. Magnificent Ambersons, The (1942)\n",
      "17. Brüno (Bruno) (2009)\n",
      "18. Duellists, The (1977)\n",
      "19. My Best Friend's Girl (2008)\n",
      "20. Bedtime Stories (2008)\n",
      "\n",
      "SIMILARS (L2 DISTANCE)\n",
      "TARGET: Toy Story (1995)\n",
      "1. Sense and Sensibility (1995)\n",
      "2. Big Chill, The (1983)\n",
      "3. Jurassic Park (1993)\n",
      "4. When Harry Met Sally... (1989)\n",
      "5. Nutty Professor, The (1996)\n",
      "6. Armageddon (1998)\n",
      "7. Minority Report (2002)\n",
      "8. Fargo (1996)\n",
      "9. American History X (1998)\n",
      "10. American Beauty (1999)\n",
      "11. Inside Out (2015)\n",
      "12. Star Wars: Episode IV - A New Hope (1977)\n",
      "13. Sleepers (1996)\n",
      "14. Catch Me If You Can (2002)\n",
      "15. Starship Troopers (1997)\n",
      "16. Toy Story 2 (1999)\n",
      "17. Monty Python's The Meaning of Life (1983)\n",
      "18. Waterworld (1995)\n",
      "19. Black Swan (2010)\n",
      "20. Gattaca (1997)\n",
      "\n",
      "\n",
      "RECOMENDATIONS\n",
      "1. Gulliver's Travels (1939)\n",
      "2. Nosferatu (Nosferatu, eine Symphonie des Grauens) (1922)\n",
      "3. Howard the Duck (1986)\n",
      "4. Great Mouse Detective, The (1986)\n",
      "5. Teenage Mutant Ninja Turtles III (1993)\n",
      "6. Office Space (1999)\n",
      "7. Canadian Bacon (1995)\n",
      "8. Shaft (1971)\n",
      "9. Scream 3 (2000)\n",
      "10. Basic Instinct (1992)\n",
      "11. Planet of the Apes (1968)\n",
      "12. Dazed and Confused (1993)\n",
      "13. Three Caballeros, The (1945)\n",
      "14. Best Men (1997)\n",
      "15. Dracula (1931)\n",
      "16. Ghost and the Darkness, The (1996)\n",
      "17. Song of the South (1946)\n",
      "18. Matrix, The (1999)\n",
      "19. Platoon (1986)\n",
      "20. Rescuers, The (1977)\n"
     ]
    }
   ],
   "source": [
    "dataset = MovielensDataset(\"movielens_small\")\n",
    "model = SimpleAttn(len(dataset.uid_2_user), len(dataset.iid_2_item))\n",
    "losses, metrics = train_model(model, dataset, epoch=500, lr=1e-3)\n",
    "item_name, similars_cos, similars_l2 = find_similars(model, 0, dataset, k=20)\n",
    "rec = make_recommendations(model, 0, dataset)\n",
    "summarize_results(losses, metrics, item_name, similars_cos, similars_l2, rec)"
   ]
  },
  {
   "cell_type": "code",
   "execution_count": null,
   "metadata": {},
   "outputs": [],
   "source": []
  },
  {
   "cell_type": "code",
   "execution_count": null,
   "metadata": {},
   "outputs": [],
   "source": [
    "dataset = SteamDataset(\"steam-200k.csv\")\n",
    "model = SimpleAttn(len(dataset.uid_2_user), len(dataset.iid_2_item))\n",
    "losses, metrics = train_model(model, dataset)\n",
    "item_name, similars_cos, similars_l2 = find_similars(model, 4, dataset, k=20)\n",
    "rec = make_recommendations(model, 0, dataset)\n",
    "summarize_results(losses, metrics, item_name, similars_cos, similars_l2, rec)"
   ]
  },
  {
   "cell_type": "code",
   "execution_count": 12,
   "metadata": {},
   "outputs": [
    {
     "data": {
      "application/vnd.jupyter.widget-view+json": {
       "model_id": "158d293a400e4e3f916661b03fc8dc92",
       "version_major": 2,
       "version_minor": 0
      },
      "text/plain": [
       "HBox(children=(HTML(value=''), FloatProgress(value=0.0, max=500.0), HTML(value='')))"
      ]
     },
     "metadata": {},
     "output_type": "display_data"
    },
    {
     "name": "stdout",
     "output_type": "stream",
     "text": [
      "\n"
     ]
    },
    {
     "data": {
      "application/vnd.jupyter.widget-view+json": {
       "model_id": "798ca19eaef345f18304bb1f2118158c",
       "version_major": 2,
       "version_minor": 0
      },
      "text/plain": [
       "HBox(children=(HTML(value=''), FloatProgress(value=0.0, max=501.0), HTML(value='')))"
      ]
     },
     "metadata": {},
     "output_type": "display_data"
    },
    {
     "name": "stdout",
     "output_type": "stream",
     "text": [
      "\n",
      "LOSS PLOT\n"
     ]
    },
    {
     "data": {
      "image/png": "[encoded data removed]",
      "text/plain": [
       "<Figure size 648x432 with 1 Axes>"
      ]
     },
     "metadata": {
      "needs_background": "light"
     },
     "output_type": "display_data"
    },
    {
     "name": "stdout",
     "output_type": "stream",
     "text": [
      "\n",
      "METRICS\n",
      "mAP@10 :: 0.7909735291322122\n",
      "\n",
      "SIMILARS\n",
      "TARGET: Toy Story (1995)\n",
      "1. Jumanji (1995)\n",
      "2. Ice Age 2: The Meltdown (2006)\n",
      "3. Spaceballs (1987)\n",
      "4. Martin Lawrence Live: Runteldat (2002)\n",
      "5. Tales from the Crypt Presents: Demon Knight (1995)\n",
      "6. Joy Luck Club, The (1993)\n",
      "7. Blood Diamond (2006)\n",
      "8. Star Wars: Episode V - The Empire Strikes Back (1980)\n",
      "9. Kill Bill: Vol. 2 (2004)\n",
      "10. Reservoir Dogs (1992)\n",
      "11. School of Rock (2003)\n",
      "12. From Dusk Till Dawn (1996)\n",
      "13. Easy Money (1983)\n",
      "14. No Country for Old Men (2007)\n",
      "15. Munich (2005)\n",
      "16. Pianist, The (2002)\n",
      "17. Pretty Woman (1990)\n",
      "18. Wedding Crashers (2005)\n",
      "19. Star Trek: Nemesis (2002)\n",
      "20. Star Wars: Episode IV - A New Hope (1977)\n"
     ]
    }
   ],
   "source": [
    "dataset = MovielensDataset(\"movielens_small\")\n",
    "model = SimpleAttn(len(dataset.uid_2_user), len(dataset.iid_2_item))\n",
    "losses, metrics = train_model(model, dataset)\n",
    "item_name, similars_cos, similars_l2 = find_similars(model, 0, dataset, k=20)\n",
    "rec = make_recommendations(model, 0, dataset)\n",
    "summarize_results(losses, metrics, item_name, similars_cos, similars_l2, rec)"
   ]
  },
  {
   "cell_type": "code",
   "execution_count": null,
   "metadata": {},
   "outputs": [],
   "source": []
  },
  {
   "cell_type": "code",
   "execution_count": null,
   "metadata": {},
   "outputs": [],
   "source": []
  }
 ],
 "metadata": {
  "kernelspec": {
   "display_name": "Python 3",
   "language": "python",
   "name": "python3"
  },
  "language_info": {
   "codemirror_mode": {
    "name": "ipython",
    "version": 3
   },
   "file_extension": ".py",
   "mimetype": "text/x-python",
   "name": "python",
   "nbconvert_exporter": "python",
   "pygments_lexer": "ipython3",
   "version": "3.8.5"
  }
 },
 "nbformat": 4,
 "nbformat_minor": 2
}
