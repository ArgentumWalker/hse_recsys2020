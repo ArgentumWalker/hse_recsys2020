{
 "cells": [
  {
   "cell_type": "code",
   "execution_count": 57,
   "metadata": {},
   "outputs": [],
   "source": [
    "import pandas as pd\n",
    "import implicit\n",
    "\n",
    "\n",
    "import numpy as np\n",
    "\n",
    "import scipy.sparse as sp\n",
    "import random\n",
    "from tqdm.notebook import tqdm\n",
    "import matplotlib.pyplot as plt"
   ]
  },
  {
   "cell_type": "code",
   "execution_count": null,
   "metadata": {},
   "outputs": [],
   "source": []
  },
  {
   "cell_type": "code",
   "execution_count": null,
   "metadata": {},
   "outputs": [],
   "source": []
  },
  {
   "cell_type": "markdown",
   "metadata": {},
   "source": [
    "## Datasets"
   ]
  },
  {
   "cell_type": "markdown",
   "metadata": {},
   "source": [
    "MovieLens dataset: https://www.kaggle.com/shubhammehta21/movie-lens-small-latest-dataset\n",
    "\n",
    "Наверное, самый часто используемый датасет.\n"
   ]
  },
  {
   "cell_type": "code",
   "execution_count": null,
   "metadata": {},
   "outputs": [],
   "source": []
  },
  {
   "cell_type": "code",
   "execution_count": 58,
   "metadata": {},
   "outputs": [],
   "source": [
    "path = \"movielens_small\"\n",
    "rating_threshold = 4.0\n",
    "\n",
    "df = pd.read_csv(f\"{path}/ratings.csv\")\n",
    "df = df[df[\"rating\"] >= rating_threshold]\n",
    "movie_ds = pd.read_csv(f\"{path}/movies.csv\")\n",
    "\n",
    "users = df[\"userId\"]\n",
    "movies = df[\"movieId\"]\n",
    "user_item = sp.coo_matrix((np.ones_like(users), (users, movies)))\n",
    "user_item_t_csr = user_item.T.tocsr()\n",
    "user_item_csr = user_item.tocsr()"
   ]
  },
  {
   "cell_type": "code",
   "execution_count": null,
   "metadata": {},
   "outputs": [],
   "source": []
  },
  {
   "cell_type": "code",
   "execution_count": null,
   "metadata": {},
   "outputs": [],
   "source": []
  },
  {
   "cell_type": "markdown",
   "metadata": {},
   "source": [
    "## Код для анализа результатов"
   ]
  },
  {
   "cell_type": "code",
   "execution_count": 59,
   "metadata": {},
   "outputs": [],
   "source": [
    "get_similars = lambda item_id, model : [movie_ds[movie_ds[\"movieId\"] == x[0]][\"title\"].to_string() for x in model.similar_items(item_id)]\n",
    "id2name = lambda ids : [movie_ds[movie_ds[\"movieId\"] == i][\"title\"].to_string() for i in ids] \n",
    "get_recommendations = lambda user_ids, model : [[x for x, _ in model.recommend(user_id, user_item_csr, 10, filter_already_liked_items=False)] for user_id in user_ids]\n",
    "get_user_relatives = lambda user_ids : [set(df[df[\"userId\"] == user_id][\"movieId\"].to_list()) for user_id in user_ids]\n"
   ]
  },
  {
   "cell_type": "code",
   "execution_count": 60,
   "metadata": {},
   "outputs": [],
   "source": [
    "def compute_metrics(recs, rels):\n",
    "    # Compute metrics\n",
    "    map_at_k = 0.\n",
    "    ndcg_at_k = 0.\n",
    "    k = None\n",
    "    for rec, rel in zip(recs, rels):\n",
    "        if k is None:\n",
    "            k = len(rec)\n",
    "        ap_at_k = 0.\n",
    "        ctn = 0\n",
    "        dcg_at_k = 0\n",
    "        idcg_at_k = 0\n",
    "        for j in range(k):\n",
    "            if rec[j] in rel:\n",
    "                ctn += 1\n",
    "                ap_at_k += ctn / (j + 1)\n",
    "                dcg_at_k += 1 / np.log(j+2)\n",
    "            if len(rel) > j:\n",
    "                idcg_at_k += 1 / np.log(j+2)\n",
    "        ap_at_k /= min(k, max(len(rel), 1))\n",
    "        ndcg_at_k += dcg_at_k / len(recs) / idcg_at_k\n",
    "        map_at_k += ap_at_k / len(recs)\n",
    "    return {f\"mAP@{k}\": map_at_k, f\"NDCG@{k}\": ndcg_at_k}"
   ]
  },
  {
   "cell_type": "code",
   "execution_count": null,
   "metadata": {},
   "outputs": [],
   "source": []
  },
  {
   "cell_type": "code",
   "execution_count": null,
   "metadata": {},
   "outputs": [],
   "source": []
  },
  {
   "cell_type": "code",
   "execution_count": 64,
   "metadata": {},
   "outputs": [],
   "source": [
    "def summarize_results(metrics, target_item, similars, rec):\n",
    "    print(\"METRICS\")\n",
    "    for k in metrics:\n",
    "        print(f\"{k} :: {metrics[k]}\")\n",
    "    print()\n",
    "    print()\n",
    "    print(\"SIMILARS\")\n",
    "    print(f\"TARGET: {target_item}\")\n",
    "    for i, similar in enumerate(similars):\n",
    "        print(f\"{i + 1}. {similar}\")\n",
    "    \n",
    "    print()\n",
    "    print(\"RECOMENDATIONS\")\n",
    "    for i, r in enumerate(rec):\n",
    "        print(f\"{i + 1}. {r}\")"
   ]
  },
  {
   "cell_type": "markdown",
   "metadata": {},
   "source": [
    "## Models"
   ]
  },
  {
   "cell_type": "code",
   "execution_count": 65,
   "metadata": {},
   "outputs": [
    {
     "data": {
      "application/vnd.jupyter.widget-view+json": {
       "model_id": "37314e899e184c11b8a0028638aea15b",
       "version_major": 2,
       "version_minor": 0
      },
      "text/plain": [
       "HBox(children=(HTML(value=''), FloatProgress(value=0.0, max=1500.0), HTML(value='')))"
      ]
     },
     "metadata": {},
     "output_type": "display_data"
    },
    {
     "name": "stdout",
     "output_type": "stream",
     "text": [
      "\n",
      "METRICS\n",
      "mAP@10 :: 0.8109536676754556\n",
      "NDCG@10 :: 0.8727366462163672\n",
      "\n",
      "\n",
      "SIMILARS\n",
      "TARGET: 0    Toy Story (1995)\n",
      "1. 0    Toy Story (1995)\n",
      "2. 2355    Toy Story 2 (1999)\n",
      "3. 506    Aladdin (1992)\n",
      "4. 32    Babe (1995)\n",
      "5. 513    Pinocchio (1940)\n",
      "6. 512    Beauty and the Beast (1991)\n",
      "7. 1757    Bug's Life, A (1998)\n",
      "8. 511    Snow White and the Seven Dwarfs (1937)\n",
      "9. 812    Aladdin and the King of Thieves (1996)\n",
      "10. 322    Lion King, The (1994)\n",
      "\n",
      "RECOMENDATIONS\n",
      "1. 987    This Is Spinal Tap (1984)\n",
      "2. 930    Annie Hall (1977)\n",
      "3. 1702    Player, The (1992)\n",
      "4. 1529    Roger & Me (1989)\n",
      "5. 692    Some Like It Hot (1959)\n",
      "6. 2145    American Beauty (1999)\n",
      "7. 984    Heathers (1989)\n",
      "8. 1960    Election (1999)\n",
      "9. 1435    Terms of Endearment (1983)\n",
      "10. 1667    Broadcast News (1987)\n"
     ]
    }
   ],
   "source": [
    "\n",
    "model = implicit.bpr.BayesianPersonalizedRanking(factors=64, iterations=1500, learning_rate=1e-3)\n",
    "model.fit(user_item_t_csr)\n",
    "\n",
    "similars = get_similars(1, model)\n",
    "users_to_rec = [4] + random.choices(users.to_list(), k = 256)\n",
    "recommendations = get_recommendations(users_to_rec, model)\n",
    "rec_names = id2name(recommendations[0])\n",
    "tgt_name = id2name([1])[0]\n",
    "relatives = get_user_relatives(users_to_rec)\n",
    "metrics = compute_metrics(recommendations, relatives)\n",
    "\n",
    "summarize_results(metrics, tgt_name, similars, rec_names)"
   ]
  },
  {
   "cell_type": "code",
   "execution_count": null,
   "metadata": {},
   "outputs": [],
   "source": []
  },
  {
   "cell_type": "code",
   "execution_count": null,
   "metadata": {},
   "outputs": [],
   "source": []
  }
 ],
 "metadata": {
  "kernelspec": {
   "display_name": "Python 3",
   "language": "python",
   "name": "python3"
  },
  "language_info": {
   "codemirror_mode": {
    "name": "ipython",
    "version": 3
   },
   "file_extension": ".py",
   "mimetype": "text/x-python",
   "name": "python",
   "nbconvert_exporter": "python",
   "pygments_lexer": "ipython3",
   "version": "3.8.5"
  }
 },
 "nbformat": 4,
 "nbformat_minor": 2
}
