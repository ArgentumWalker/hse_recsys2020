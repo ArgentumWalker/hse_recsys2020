{
 "cells": [
  {
   "cell_type": "code",
   "execution_count": 1,
   "metadata": {},
   "outputs": [],
   "source": [
    "import copy\n",
    "import random\n",
    "import catboost\n",
    "import numpy as np\n",
    "from tqdm.notebook import tqdm"
   ]
  },
  {
   "cell_type": "code",
   "execution_count": 2,
   "metadata": {},
   "outputs": [
    {
     "data": {
      "text/plain": [
       "array([3, 0, 1, 2])"
      ]
     },
     "execution_count": 2,
     "metadata": {},
     "output_type": "execute_result"
    }
   ],
   "source": [
    "np.argsort([3, 2, 1, 5])[::-1]"
   ]
  },
  {
   "cell_type": "markdown",
   "metadata": {},
   "source": [
    "### Dataset preprocessing"
   ]
  },
  {
   "cell_type": "code",
   "execution_count": 9,
   "metadata": {},
   "outputs": [],
   "source": [
    "def preprocess_dataset(path=\"data\"):\n",
    "    print(\"Preprocessing songs.csv ...\")\n",
    "    with open(path + \"/songs.csv\") as f:\n",
    "        first_readed = False\n",
    "        song2id = {}\n",
    "        artist_id2name = {}\n",
    "        artist2id = {}\n",
    "        composer2id = {}\n",
    "        lyrics2id = {}\n",
    "        song_id2data = {}\n",
    "        genre2id = {}\n",
    "        genre2ctn =[0 for _ in range(191)]\n",
    "        for i, l in enumerate(f):\n",
    "            if not first_readed:\n",
    "                first_readed = True\n",
    "                continue\n",
    "            parts = l[:-1].split(',')\n",
    "            song_id, song_length, genre_ids, artist_name, _, _, language = parts[:7]\n",
    "            if song_id not in song2id:\n",
    "                song2id[song_id] = len(song2id)\n",
    "                \n",
    "            if genre_ids == \"\":\n",
    "                genre_ids = []\n",
    "            else:\n",
    "                genre_ids = list(map(int, genre_ids.split(\"|\")))\n",
    "            for g in genre_ids:\n",
    "                if g not in genre2id:\n",
    "                    genre2id[g] = len(genre2id)\n",
    "                genre2ctn[genre2id[g]] += 1\n",
    "            genre_ids = [genre2id[g] for g in genre_ids]\n",
    "            if not artist_name in artist2id:\n",
    "                artist_id2name[len(artist2id)] = artist_name\n",
    "                artist2id[artist_name] = len(artist2id) \n",
    "                \n",
    "            song_id2data[song2id[song_id]] = [int(song_length), artist2id[artist_name], int(float(language)), genre_ids]\n",
    "        retain_genres = (np.argsort(genre2ctn)[::-1])[:10]\n",
    "        retain_genres = dict([(g, i) for i, g in enumerate(retain_genres)])\n",
    "        \n",
    "        for k in song_id2data:\n",
    "            genre_ids = song_id2data[k][-1]\n",
    "            genre_ids = [retain_genres[g] for g in genre_ids if g in retain_genres]\n",
    "            song_id2data[k][-1] = genre_ids\n",
    "        \n",
    "    print(\"Total genres: \", len(genre2id))\n",
    "    print(\"Preprocessing song_extra_info.csv ...\")\n",
    "    with open(path + \"/song_extra_info.csv\") as f:\n",
    "        first_readed = False\n",
    "        song_id2name = {}\n",
    "        for l in f:\n",
    "            if not first_readed:\n",
    "                first_readed = True\n",
    "                continue\n",
    "            song_id, name, isrc = l[:-1].split(',')\n",
    "            \n",
    "            if song_id not in song2id:\n",
    "                continue\n",
    "            song_id2name[song2id[song_id]] = name\n",
    "            if song2id[song_id] in song_id2data:\n",
    "                song_id2data[song2id[song_id]].append(isrc)\n",
    "    print(\"Preprocessing members.csv ...\")\n",
    "    with open(path + \"/members.csv\", \"r\") as f:\n",
    "        first_readed = False\n",
    "        user2id = {}\n",
    "        member_id2data = {}\n",
    "        gender2id = {\"male\": -1, \"\": 0, \"female\": 1}\n",
    "        for l in f:\n",
    "            if not first_readed:\n",
    "                first_readed = True\n",
    "                continue\n",
    "            msno, city, bd, gender, registered_via, registration_init_time, expiration_date = l[:-1].split(',')\n",
    "            if msno not in user2id:\n",
    "                user2id[msno] = len(user2id)\n",
    "            member_id2data[user2id[msno]] = (\n",
    "                int(city), int(bd), gender2id[gender], int(registered_via), \n",
    "                int(registration_init_time), int(expiration_date)\n",
    "            )\n",
    "    print(\"Preprocessing train.csv ...\")\n",
    "    with open(path + \"/train.csv\", \"r\") as f:\n",
    "        first_readed = False\n",
    "        user2songs2ctn = {}\n",
    "        user2artist2ctn = {}\n",
    "        sst2id = {}\n",
    "        ssn2id = {}\n",
    "        st2id = {}\n",
    "        train = []\n",
    "        for l in f:\n",
    "            if not first_readed:\n",
    "                first_readed = True\n",
    "                continue\n",
    "            msno, song_id, source_system_tab, source_screen_name, source_type, target = l[:-1].split(',')\n",
    "            if msno not in user2id:\n",
    "                continue\n",
    "            if song_id not in song2id:\n",
    "                continue\n",
    "            \n",
    "            if user2id[msno] not in user2songs2ctn:\n",
    "                user2songs2ctn[user2id[msno]] = {}\n",
    "                user2artist2ctn[user2id[msno]] = {}\n",
    "            if song2id[song_id] not in user2songs2ctn[user2id[msno]]:\n",
    "                user2songs2ctn[user2id[msno]][song2id[song_id]] = 0\n",
    "            artist_id = song_id2data[song2id[song_id]][1]\n",
    "            if artist_id not in user2artist2ctn[user2id[msno]]:\n",
    "                user2artist2ctn[user2id[msno]][artist_id] = 0\n",
    "                \n",
    "            if source_system_tab not in sst2id:\n",
    "                sst2id[source_system_tab] = len(sst2id)\n",
    "            if source_type not in st2id:\n",
    "                st2id[source_type] = len(st2id)\n",
    "            train.append((\n",
    "                user2id[msno], song2id[song_id], user2songs2ctn[user2id[msno]][song2id[song_id]], user2artist2ctn[user2id[msno]][artist_id], \n",
    "                sst2id[source_system_tab], st2id[source_type], int(target)\n",
    "            ))\n",
    "\n",
    "            if int(target) > 0:\n",
    "                user2songs2ctn[user2id[msno]][song2id[song_id]] += 1\n",
    "                user2artist2ctn[user2id[msno]][artist_id] += 1\n",
    "    return train, member_id2data, song_id2data, song_id2name, artist_id2name"
   ]
  },
  {
   "cell_type": "code",
   "execution_count": 10,
   "metadata": {},
   "outputs": [
    {
     "name": "stdout",
     "output_type": "stream",
     "text": [
      "Preprocessing songs.csv ...\n",
      "Total genres:  191\n",
      "Preprocessing song_extra_info.csv ...\n",
      "Preprocessing members.csv ...\n",
      "Preprocessing train.csv ...\n"
     ]
    }
   ],
   "source": [
    "train, members, songs, song_id2name, artist_id2name = preprocess_dataset()"
   ]
  },
  {
   "cell_type": "code",
   "execution_count": 11,
   "metadata": {},
   "outputs": [
    {
     "data": {
      "text/plain": [
       "7377416"
      ]
     },
     "execution_count": 11,
     "metadata": {},
     "output_type": "execute_result"
    }
   ],
   "source": [
    "len(train)"
   ]
  },
  {
   "cell_type": "markdown",
   "metadata": {},
   "source": [
    "### Feature extraction"
   ]
  },
  {
   "cell_type": "code",
   "execution_count": 20,
   "metadata": {},
   "outputs": [],
   "source": [
    "def isrc_to_year(isrc): # https://www.kaggle.com/kamilkk/i-have-to-say-this\n",
    "    if isrc != \"\":\n",
    "        if int(isrc[5:7]) > 17:\n",
    "            return 1900 + int(isrc[5:7])\n",
    "        else:\n",
    "            return 2000 + int(isrc[5:7])\n",
    "    else:\n",
    "        return np.nan\n",
    "\n",
    "def one_hot_genres(genres):\n",
    "    result = [0 for _ in range(10)]\n",
    "    for g in genres:\n",
    "        result[g] = 1\n",
    "    return result\n",
    "    \n",
    "def get_song_features(song_id):\n",
    "    song_length, artist_id, language, genre_ids, isrc = songs[song_id]\n",
    "    year = isrc_to_year(isrc)\n",
    "    genre = one_hot_genres(genre_ids)\n",
    "    return [year, language, song_length] + genre    \n",
    "\n",
    "def get_user_features(user_id):\n",
    "    return list(members[user_id])\n",
    "\n",
    "def extract_features(dataset):\n",
    "    X = []\n",
    "    y = []\n",
    "    for user_id, song_id, u2s2c, u2a2c, sst_id, st_id, tgt in dataset:\n",
    "        user_features = get_user_features(user_id)\n",
    "        song_features = get_song_features(song_id)\n",
    "        song_year = song_features[0]\n",
    "        user_register, user_expired = user_features[-2]//10000, user_features[-1]//10000\n",
    "        register_song_diff = song_year - user_register\n",
    "        expired_song_diff = song_year - user_expired\n",
    "        X.append(user_features + song_features + [u2s2c, u2a2c, register_song_diff, expired_song_diff])\n",
    "        y.append(tgt)\n",
    "    return X, y"
   ]
  },
  {
   "cell_type": "markdown",
   "metadata": {},
   "source": [
    "### Task 1"
   ]
  },
  {
   "cell_type": "code",
   "execution_count": 24,
   "metadata": {},
   "outputs": [],
   "source": [
    "def cross_validation(train_function, parts=5):\n",
    "    train_shuffled = copy.deepcopy(train)\n",
    "    random.shuffle(train_shuffled)\n",
    "    X, y = extract_features(train_shuffled)\n",
    "    avg_stat = {}\n",
    "    for i in tqdm(range(parts)):\n",
    "        X_train = X[:i * len(train_shuffled) // parts] + X[(i+1) * len(train_shuffled) // parts:]\n",
    "        y_train = y[:i * len(train_shuffled) // parts] + y[(i+1) * len(train_shuffled) // parts:]\n",
    "        X_test = X[i * len(train_shuffled) // parts:(i+1) * len(train_shuffled) // parts]\n",
    "        y_test = y[i * len(train_shuffled) // parts:(i+1) * len(train_shuffled) // parts]\n",
    "        stat = train_function((X_train, y_train), (X_test, y_test))\n",
    "        for key in stat:\n",
    "            avg_stat[key] = avg_stat.get(key, 0) + stat[key] / parts\n",
    "    for key in avg_stat:\n",
    "        print(f\"{key}: {avg_stat[key]}\")\n",
    "    print()\n",
    "    return avg_stat"
   ]
  },
  {
   "cell_type": "code",
   "execution_count": 25,
   "metadata": {},
   "outputs": [],
   "source": [
    "def build_train_func(depth=16, min_data_in_leaf=1, l2_leaf_reg=3.0):\n",
    "    def train_catboost(train, test, verbose=False):\n",
    "        X_train, y_train = train\n",
    "        X_test, y_test = test\n",
    "        model = catboost.CatBoostClassifier(iterations=100, verbose=verbose, \n",
    "                                            depth=depth, min_data_in_leaf=min_data_in_leaf)\n",
    "        pool = catboost.Pool(X_train, y_train)\n",
    "        model.fit(pool)\n",
    "        pool = catboost.Pool(X_test, y_test)\n",
    "        metrics = model.eval_metrics(pool, ['Logloss', 'AUC'])\n",
    "        for k in metrics:\n",
    "            metrics[k] = metrics[k][-1]\n",
    "        return metrics\n",
    "    return train_catboost"
   ]
  },
  {
   "cell_type": "code",
   "execution_count": null,
   "metadata": {},
   "outputs": [],
   "source": []
  },
  {
   "cell_type": "code",
   "execution_count": null,
   "metadata": {
    "scrolled": true
   },
   "outputs": [],
   "source": []
  },
  {
   "cell_type": "code",
   "execution_count": 26,
   "metadata": {},
   "outputs": [
    {
     "data": {
      "application/vnd.jupyter.widget-view+json": {
       "model_id": "6f79740db3504e5a87902a41e24cc43d",
       "version_major": 2,
       "version_minor": 0
      },
      "text/plain": [
       "HBox(children=(HTML(value=''), FloatProgress(value=0.0, max=5.0), HTML(value='')))"
      ]
     },
     "metadata": {},
     "output_type": "display_data"
    },
    {
     "name": "stdout",
     "output_type": "stream",
     "text": [
      "\n",
      "Logloss: 0.6154619547768531\n",
      "AUC: 0.7192393070791001\n",
      "\n"
     ]
    },
    {
     "data": {
      "text/plain": [
       "{'Logloss': 0.6154619547768531, 'AUC': 0.7192393070791001}"
      ]
     },
     "execution_count": 26,
     "metadata": {},
     "output_type": "execute_result"
    }
   ],
   "source": [
    "cross_validation(build_train_func())"
   ]
  },
  {
   "cell_type": "markdown",
   "metadata": {},
   "source": [
    "#### ROC AUC ~ 0.719 which is (maybe) good enough"
   ]
  },
  {
   "cell_type": "code",
   "execution_count": 27,
   "metadata": {},
   "outputs": [
    {
     "data": {
      "application/vnd.jupyter.widget-view+json": {
       "model_id": "15f2115a058543dea4e9f3c185b13287",
       "version_major": 2,
       "version_minor": 0
      },
      "text/plain": [
       "HBox(children=(HTML(value=''), FloatProgress(value=0.0, max=5.0), HTML(value='')))"
      ]
     },
     "metadata": {},
     "output_type": "display_data"
    },
    {
     "name": "stdout",
     "output_type": "stream",
     "text": [
      "\n",
      "Logloss: 0.6162607792109148\n",
      "AUC: 0.7181217113168242\n",
      "\n"
     ]
    },
    {
     "data": {
      "text/plain": [
       "{'Logloss': 0.6162607792109148, 'AUC': 0.7181217113168242}"
      ]
     },
     "execution_count": 27,
     "metadata": {},
     "output_type": "execute_result"
    }
   ],
   "source": [
    "cross_validation(build_train_func(16, 100, 3.0))"
   ]
  },
  {
   "cell_type": "code",
   "execution_count": 28,
   "metadata": {},
   "outputs": [
    {
     "data": {
      "application/vnd.jupyter.widget-view+json": {
       "model_id": "64b2a2f116514befaa55a967057a4d46",
       "version_major": 2,
       "version_minor": 0
      },
      "text/plain": [
       "HBox(children=(HTML(value=''), FloatProgress(value=0.0, max=5.0), HTML(value='')))"
      ]
     },
     "metadata": {},
     "output_type": "display_data"
    },
    {
     "name": "stdout",
     "output_type": "stream",
     "text": [
      "\n",
      "Logloss: 0.6494050988788231\n",
      "AUC: 0.665325081489575\n",
      "\n"
     ]
    },
    {
     "data": {
      "text/plain": [
       "{'Logloss': 0.6494050988788231, 'AUC': 0.665325081489575}"
      ]
     },
     "execution_count": 28,
     "metadata": {},
     "output_type": "execute_result"
    }
   ],
   "source": [
    "cross_validation(build_train_func(8, 1, 3.0))"
   ]
  },
  {
   "cell_type": "code",
   "execution_count": 29,
   "metadata": {},
   "outputs": [
    {
     "data": {
      "application/vnd.jupyter.widget-view+json": {
       "model_id": "e71a8bb9d1654eb1b5a1894cef764f51",
       "version_major": 2,
       "version_minor": 0
      },
      "text/plain": [
       "HBox(children=(HTML(value=''), FloatProgress(value=0.0, max=5.0), HTML(value='')))"
      ]
     },
     "metadata": {},
     "output_type": "display_data"
    },
    {
     "name": "stdout",
     "output_type": "stream",
     "text": [
      "\n",
      "Logloss: 0.6496599736865354\n",
      "AUC: 0.6647784457873176\n",
      "\n"
     ]
    },
    {
     "data": {
      "text/plain": [
       "{'Logloss': 0.6496599736865354, 'AUC': 0.6647784457873176}"
      ]
     },
     "execution_count": 29,
     "metadata": {},
     "output_type": "execute_result"
    }
   ],
   "source": [
    "cross_validation(build_train_func(8, 100, 3.0))"
   ]
  },
  {
   "cell_type": "code",
   "execution_count": 30,
   "metadata": {},
   "outputs": [
    {
     "data": {
      "application/vnd.jupyter.widget-view+json": {
       "model_id": "6a46ff6a9ee043589e3d5512665b8efe",
       "version_major": 2,
       "version_minor": 0
      },
      "text/plain": [
       "HBox(children=(HTML(value=''), FloatProgress(value=0.0, max=5.0), HTML(value='')))"
      ]
     },
     "metadata": {},
     "output_type": "display_data"
    },
    {
     "name": "stdout",
     "output_type": "stream",
     "text": [
      "\n",
      "Logloss: 0.6608828142896415\n",
      "AUC: 0.64160666475336\n",
      "\n"
     ]
    },
    {
     "data": {
      "text/plain": [
       "{'Logloss': 0.6608828142896415, 'AUC': 0.64160666475336}"
      ]
     },
     "execution_count": 30,
     "metadata": {},
     "output_type": "execute_result"
    }
   ],
   "source": [
    "cross_validation(build_train_func(4, 100, 3.0))"
   ]
  },
  {
   "cell_type": "code",
   "execution_count": 31,
   "metadata": {},
   "outputs": [
    {
     "data": {
      "application/vnd.jupyter.widget-view+json": {
       "model_id": "2244b50f7c45480785f714adbceaf683",
       "version_major": 2,
       "version_minor": 0
      },
      "text/plain": [
       "HBox(children=(HTML(value=''), FloatProgress(value=0.0, max=5.0), HTML(value='')))"
      ]
     },
     "metadata": {},
     "output_type": "display_data"
    },
    {
     "name": "stdout",
     "output_type": "stream",
     "text": [
      "\n",
      "Logloss: 0.6156102557384175\n",
      "AUC: 0.719118310403183\n",
      "\n"
     ]
    },
    {
     "data": {
      "text/plain": [
       "{'Logloss': 0.6156102557384175, 'AUC': 0.719118310403183}"
      ]
     },
     "execution_count": 31,
     "metadata": {},
     "output_type": "execute_result"
    }
   ],
   "source": [
    "cross_validation(build_train_func(16, 100, 10.0))"
   ]
  },
  {
   "cell_type": "code",
   "execution_count": 32,
   "metadata": {},
   "outputs": [
    {
     "data": {
      "application/vnd.jupyter.widget-view+json": {
       "model_id": "440131d6823a46598283b324b829c5fa",
       "version_major": 2,
       "version_minor": 0
      },
      "text/plain": [
       "HBox(children=(HTML(value=''), FloatProgress(value=0.0, max=5.0), HTML(value='')))"
      ]
     },
     "metadata": {},
     "output_type": "display_data"
    },
    {
     "name": "stdout",
     "output_type": "stream",
     "text": [
      "\n",
      "Logloss: 0.615380495326499\n",
      "AUC: 0.7193730667178964\n",
      "\n"
     ]
    },
    {
     "data": {
      "text/plain": [
       "{'Logloss': 0.615380495326499, 'AUC': 0.7193730667178964}"
      ]
     },
     "execution_count": 32,
     "metadata": {},
     "output_type": "execute_result"
    }
   ],
   "source": [
    "cross_validation(build_train_func(16, 100, 1.0))"
   ]
  },
  {
   "cell_type": "code",
   "execution_count": 33,
   "metadata": {},
   "outputs": [
    {
     "data": {
      "application/vnd.jupyter.widget-view+json": {
       "model_id": "56fcc8ae93db4093863086d75ebeb6eb",
       "version_major": 2,
       "version_minor": 0
      },
      "text/plain": [
       "HBox(children=(HTML(value=''), FloatProgress(value=0.0, max=5.0), HTML(value='')))"
      ]
     },
     "metadata": {},
     "output_type": "display_data"
    },
    {
     "name": "stdout",
     "output_type": "stream",
     "text": [
      "\n",
      "Logloss: 0.615474907009779\n",
      "AUC: 0.7191859170531917\n",
      "\n"
     ]
    },
    {
     "data": {
      "text/plain": [
       "{'Logloss': 0.615474907009779, 'AUC': 0.7191859170531917}"
      ]
     },
     "execution_count": 33,
     "metadata": {},
     "output_type": "execute_result"
    }
   ],
   "source": [
    "cross_validation(build_train_func(16, 100, 0.1))"
   ]
  },
  {
   "cell_type": "code",
   "execution_count": null,
   "metadata": {},
   "outputs": [],
   "source": []
  }
 ],
 "metadata": {
  "kernelspec": {
   "display_name": "Python 3",
   "language": "python",
   "name": "python3"
  },
  "language_info": {
   "codemirror_mode": {
    "name": "ipython",
    "version": 3
   },
   "file_extension": ".py",
   "mimetype": "text/x-python",
   "name": "python",
   "nbconvert_exporter": "python",
   "pygments_lexer": "ipython3",
   "version": "3.8.5"
  }
 },
 "nbformat": 4,
 "nbformat_minor": 4
}
